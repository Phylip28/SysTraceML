{
 "cells": [
  {
   "cell_type": "code",
   "execution_count": 1,
   "id": "9ab74a05",
   "metadata": {},
   "outputs": [],
   "source": [
    "import pandas as pd\n",
    "from sklearn.ensemble import RandomForestClassifier\n",
    "from sklearn.model_selection import train_test_split\n",
    "from sklearn.metrics import classification_report, confusion_matrix\n",
    "import joblib"
   ]
  },
  {
   "cell_type": "code",
   "execution_count": 3,
   "id": "26423f5b",
   "metadata": {},
   "outputs": [],
   "source": [
    "# Loading data\n",
    "attack_df = pd.read_csv(\"../processed_data/attack/attack_dataset.csv\")\n",
    "training_df = pd.read_csv(\"../processed_data/training/training_dataset.csv\")\n",
    "validation_df = pd.read_csv(\"../processed_data/validation/validation_dataset.csv\")"
   ]
  },
  {
   "cell_type": "code",
   "execution_count": 5,
   "id": "d86c296b",
   "metadata": {},
   "outputs": [
    {
     "name": "stdout",
     "output_type": "stream",
     "text": [
      "Confusion Matrix:\n",
      " [[58 26]\n",
      " [34 79]]\n",
      "Classification Report:\n",
      "               precision    recall  f1-score   support\n",
      "\n",
      "           0       0.63      0.69      0.66        84\n",
      "           1       0.75      0.70      0.72       113\n",
      "\n",
      "    accuracy                           0.70       197\n",
      "   macro avg       0.69      0.69      0.69       197\n",
      "weighted avg       0.70      0.70      0.70       197\n",
      "\n",
      "\n",
      "Modelo guardado en 'models/model.pkl'\n"
     ]
    }
   ],
   "source": [
    "# Labeling\n",
    "attack_df[\"label\"] = 1  # Attack\n",
    "training_df[\"label\"] = 0  # Normal\n",
    "validation_df[\"label\"] = 0  # Normal\n",
    "\n",
    "# Merge columns (witout attack)\n",
    "attack_df = attack_df.drop(columns=[\"attack_type\"], errors=\"ignore\")\n",
    "\n",
    "# Concatenate\n",
    "full_df = pd.concat([attack_df, training_df, validation_df], ignore_index=True)\n",
    "\n",
    "# Split features and labels\n",
    "X = full_df[[\"syscall_id\", \"frequency\"]]\n",
    "y = full_df[\"label\"]\n",
    "\n",
    "# Split data in train and test\n",
    "X_train, X_test, y_train, y_test = train_test_split(\n",
    "    X, y, test_size=0.3, random_state=42\n",
    ")\n",
    "\n",
    "# Training model\n",
    "model = RandomForestClassifier(n_estimators=100, random_state=42)\n",
    "model.fit(X_train, y_train)\n",
    "\n",
    "# Evaluate model\n",
    "y_pred = model.predict(X_test)\n",
    "print(\"Confusion Matrix:\\n\", confusion_matrix(y_test, y_pred))\n",
    "print(\"Classification Report:\\n\", classification_report(y_test, y_pred))\n",
    "\n",
    "# Save model\n",
    "joblib.dump(model, \"../models/model.pkl\")\n",
    "print(\"\\nModelo guardado en 'models/model.pkl'\")"
   ]
  }
 ],
 "metadata": {
  "kernelspec": {
   "display_name": "venv",
   "language": "python",
   "name": "python3"
  },
  "language_info": {
   "codemirror_mode": {
    "name": "ipython",
    "version": 3
   },
   "file_extension": ".py",
   "mimetype": "text/x-python",
   "name": "python",
   "nbconvert_exporter": "python",
   "pygments_lexer": "ipython3",
   "version": "3.12.3"
  }
 },
 "nbformat": 4,
 "nbformat_minor": 5
}
